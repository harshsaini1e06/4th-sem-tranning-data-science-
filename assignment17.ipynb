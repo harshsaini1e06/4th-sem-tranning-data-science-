{
 "cells": [
  {
   "cell_type": "markdown",
   "metadata": {},
   "source": [
    "# Q1"
   ]
  },
  {
   "cell_type": "code",
   "execution_count": 2,
   "metadata": {},
   "outputs": [
    {
     "name": "stdout",
     "output_type": "stream",
     "text": [
      "[96, 64, 12, 32, 56]\n",
      "[25, 41, 85, 35, 75, 9, 21, 23, 25]\n",
      "Average of even numbers: 52.0\n",
      "Average of odd numbers: 37.666666666666664\n",
      "Number of even numbers: 5\n",
      "Number of odd numbers: 9\n"
     ]
    }
   ],
   "source": [
    "lst = [25, 41, 85, 96, 35, 64, 75, 9, 12, 21, 32, 23, 25, 56]\n",
    "evens = [num for num in lst if num % 2 == 0]\n",
    "print (evens)\n",
    "odds = [num for num in lst if num % 2 != 0]\n",
    "print (odds)\n",
    "avg_even = sum(evens) / len(evens) if evens else 0\n",
    "avg_odd = sum(odds) / len(odds) if odds else 0\n",
    "num_evens = len(evens)\n",
    "num_odds = len(odds)\n",
    "print(\"Average of even numbers:\", avg_even)\n",
    "print(\"Average of odd numbers:\", avg_odd)\n",
    "print(\"Number of even numbers:\", num_evens)\n",
    "print(\"Number of odd numbers:\", num_odds)\n"
   ]
  },
  {
   "cell_type": "markdown",
   "metadata": {},
   "source": [
    "# Q2"
   ]
  },
  {
   "cell_type": "code",
   "execution_count": 11,
   "metadata": {},
   "outputs": [
    {
     "name": "stdout",
     "output_type": "stream",
     "text": [
      "Element 32 found at index 10 using linear search.\n",
      "Element 32 found at index 6 using binary search.\n"
     ]
    }
   ],
   "source": [
    "def linear_search(arr, target):\n",
    "    for i in range(len(arr)):\n",
    "        if arr[i] == target:\n",
    "            return i\n",
    "    return -1\n",
    "\n",
    "lst = [25, 41, 85, 96, 35, 64, 75, 9, 12, 21, 32, 23, 25, 56]\n",
    "target = int(input(\"enter the number you want to search : \"))\n",
    "\n",
    "result_linear = linear_search(lst, target)\n",
    "if result_linear != -1:\n",
    "    print(f\"Element {target} found at index {result_linear} using linear search.\")\n",
    "else:\n",
    "    print(f\"Element {target} not found in the list using linear search.\")\n",
    "\n",
    "\n",
    "\n",
    "def binary_search(arr, target):\n",
    "    low = 0\n",
    "    high = len(arr) - 1\n",
    "    while low <= high:\n",
    "        mid = (low + high) // 2\n",
    "        if arr[mid] == target:\n",
    "            return mid\n",
    "        elif arr[mid] < target:\n",
    "            low = mid + 1\n",
    "        else:\n",
    "            high = mid - 1\n",
    "    return -1\n",
    "lst.sort()\n",
    "result_binary = binary_search(lst, target)\n",
    "if result_binary != -1:\n",
    "    print(f\"Element {target} found at index {result_binary} using binary search.\")\n",
    "else:\n",
    "    print(f\"Element {target} not found in the list using binary search.\")\n",
    "\n"
   ]
  },
  {
   "cell_type": "markdown",
   "metadata": {},
   "source": [
    "# Q3"
   ]
  },
  {
   "cell_type": "code",
   "execution_count": 13,
   "metadata": {},
   "outputs": [
    {
     "name": "stdout",
     "output_type": "stream",
     "text": [
      "Squares: [625, 1681, 7225, 9216, 1225, 4096, 5625, 81, 144, 441, 1024, 529, 625, 3136]\n",
      "Even Numbers: [96, 64, 12, 32, 56]\n"
     ]
    }
   ],
   "source": [
    "lst = [25, 41, 85, 96, 35, 64, 75, 9, 12, 21, 32, 23, 25, 56]\n",
    "squares = [num ** 2 for num in lst]\n",
    "even_numbers = [num for num in lst if num % 2 == 0]\n",
    "print(\"Squares:\", squares)\n",
    "print(\"Even Numbers:\", even_numbers)\n"
   ]
  }
 ],
 "metadata": {
  "kernelspec": {
   "display_name": "Python 3",
   "language": "python",
   "name": "python3"
  },
  "language_info": {
   "codemirror_mode": {
    "name": "ipython",
    "version": 3
   },
   "file_extension": ".py",
   "mimetype": "text/x-python",
   "name": "python",
   "nbconvert_exporter": "python",
   "pygments_lexer": "ipython3",
   "version": "3.11.9"
  },
  "orig_nbformat": 4
 },
 "nbformat": 4,
 "nbformat_minor": 2
}
